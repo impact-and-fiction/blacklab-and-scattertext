{
 "cells": [
  {
   "cell_type": "code",
   "execution_count": 1,
   "id": "09465ee9-9eb4-4d8a-aea2-7a6f939bb05e",
   "metadata": {},
   "outputs": [],
   "source": [
    "import json\n",
    "import pandas as pd\n",
    "import scattertext as st\n",
    "import urllib.parse\n",
    "import urllib.request\n",
    "\n",
    "from IPython.display import display, HTML\n",
    "from typing import Any, Dict, List, Set, TextIO"
   ]
  },
  {
   "cell_type": "code",
   "execution_count": 2,
   "id": "07542852-6743-432e-b800-cf7160da584c",
   "metadata": {},
   "outputs": [],
   "source": [
    "SERVER_URL: str = \"https://blacklab.impfic-knaw.src.surf-hosted.nl/blacklab-server\"\n",
    "CORPUS: str = \"brown_corpus\""
   ]
  },
  {
   "cell_type": "code",
   "execution_count": 3,
   "id": "8ca23be2-d630-4359-adc8-7d630b2fa047",
   "metadata": {},
   "outputs": [],
   "source": [
    "def search(query: str) -> Dict[str, Any]:\n",
    "    \"\"\" Search and return hits.\n",
    "    \n",
    "    Takes a Corpus Query Language string, assembles a URL string,\n",
    "    queries the BlackLab REST API and returns the result as JSON.\n",
    "    \n",
    "    See https://inl.github.io/BlackLab/corpus-query-language.html\n",
    "    \"\"\"\n",
    "    replaced: str = urllib.parse.quote_plus(query)  # escaping special characters with their URL safe equivalent\n",
    "    url: str = SERVER_URL + \"/\" + CORPUS + \"/hits?outputformat=json&number=999999999&patt=\" + replaced\n",
    "    print(\"Getting URL: \", url)\n",
    "    raw_response: urllib.response.HTTPResponse = urllib.request.urlopen(url)\n",
    "    response: Dict[str, Any] = json.loads(raw_response.read().decode('utf-8'))\n",
    "    return response"
   ]
  },
  {
   "cell_type": "code",
   "execution_count": 11,
   "id": "acf47874-ff64-4e69-a6af-61975b52310f",
   "metadata": {},
   "outputs": [
    {
     "name": "stdout",
     "output_type": "stream",
     "text": [
      "Getting URL:  https://blacklab.impfic-knaw.src.surf-hosted.nl/blacklab-server/brown_corpus/hits?outputformat=json&number=999999999&patt=%5B%5D+%22she%22+%5B%5D\n"
     ]
    }
   ],
   "source": [
    "query_text_she: str = '[] \"she\" []'\n",
    "result_she: Dict[str, Any] = search(query_text_she)"
   ]
  },
  {
   "cell_type": "markdown",
   "id": "42188b1d-7073-4b31-8ceb-c8278f2c3a75",
   "metadata": {
    "tags": []
   },
   "source": [
    "**The result is a dictionary with a search summary, information about the indexed documents and the search hits.**"
   ]
  },
  {
   "cell_type": "code",
   "execution_count": 12,
   "id": "bb628173-38db-4e77-82cc-f8ef53fe506c",
   "metadata": {},
   "outputs": [
    {
     "data": {
      "text/plain": [
       "dict_keys(['summary', 'hits', 'docInfos'])"
      ]
     },
     "execution_count": 12,
     "metadata": {},
     "output_type": "execute_result"
    }
   ],
   "source": [
    "result_she.keys()"
   ]
  },
  {
   "cell_type": "markdown",
   "id": "947b3981-a0c2-432a-be8b-4a47fd3c4481",
   "metadata": {},
   "source": [
    "**The search summary lists search parameters, search time, number of hits and many other interesting items.**"
   ]
  },
  {
   "cell_type": "code",
   "execution_count": 13,
   "id": "8f54f375-95c4-42d7-a7b5-fdbf6fe7e069",
   "metadata": {},
   "outputs": [
    {
     "data": {
      "text/plain": [
       "{'searchParam': {'indexname': 'brown_corpus',\n",
       "  'number': '999999999',\n",
       "  'patt': '[] \"she\" []'},\n",
       " 'searchTime': 50,\n",
       " 'countTime': 152,\n",
       " 'windowFirstResult': 0,\n",
       " 'requestedWindowSize': 3000,\n",
       " 'actualWindowSize': 2849,\n",
       " 'windowHasPrevious': False,\n",
       " 'windowHasNext': False,\n",
       " 'stillCounting': False,\n",
       " 'numberOfHits': 2849,\n",
       " 'numberOfHitsRetrieved': 2849,\n",
       " 'stoppedCountingHits': False,\n",
       " 'stoppedRetrievingHits': False,\n",
       " 'numberOfDocs': 227,\n",
       " 'numberOfDocsRetrieved': 227,\n",
       " 'docFields': {'titleField': 'fromInputFile'},\n",
       " 'metadataFieldDisplayNames': {'fromInputFile': 'From input file'}}"
      ]
     },
     "execution_count": 13,
     "metadata": {},
     "output_type": "execute_result"
    }
   ],
   "source": [
    "result_she[\"summary\"]"
   ]
  },
  {
   "cell_type": "markdown",
   "id": "76933d59-742b-4acc-8dfa-e031c02aef54",
   "metadata": {},
   "source": [
    "**`docInfos` is a list, containing infos about all the documents in the corpus. As an example, let's have a look at the infos of \"Document 5\".**"
   ]
  },
  {
   "cell_type": "code",
   "execution_count": 14,
   "id": "aaff823e-105a-4e39-b76b-4913d483e91d",
   "metadata": {},
   "outputs": [
    {
     "data": {
      "text/plain": [
       "{'fromInputFile': ['/input/brownCorpus.lemmatized.xml'],\n",
       " 'lengthInTokens': 1992,\n",
       " 'mayView': True}"
      ]
     },
     "execution_count": 14,
     "metadata": {},
     "output_type": "execute_result"
    }
   ],
   "source": [
    "result_she[\"docInfos\"][\"5\"]"
   ]
  },
  {
   "cell_type": "markdown",
   "id": "10176b1d-dde8-4f9a-814b-ed8c84920aaf",
   "metadata": {},
   "source": [
    "**`hits` is a list containing a dict of all the matches and a bunch of extra information. We can find the corresponding document ID, start and end position, the match itself and the \"left\" and \"right\" context of the match.**"
   ]
  },
  {
   "cell_type": "code",
   "execution_count": 15,
   "id": "98a3018b-1496-4360-ac03-5db0b8d4e2c7",
   "metadata": {},
   "outputs": [
    {
     "data": {
      "text/plain": [
       "{'docPid': '5',\n",
       " 'start': 1982,\n",
       " 'end': 1985,\n",
       " 'left': {'punct': [' ', ' ', ' ', ' ', ' '],\n",
       "  'lemma': ['adoption', 'of', 'the', \"women's\", 'suffrage'],\n",
       "  'pos': ['', '', '', '', ''],\n",
       "  'word': ['adoption', 'of', 'the', \"women's\", 'suffrage']},\n",
       " 'match': {'punct': [' ', ' . ', ' '],\n",
       "  'lemma': ['amendment', 'she', 'serve'],\n",
       "  'pos': ['', '', ''],\n",
       "  'word': ['amendment', 'She', 'served']},\n",
       " 'right': {'punct': [' ', ' ', ' ', ' ', ' '],\n",
       "  'lemma': ['one', 'four-year', 'term', 'on', 'the'],\n",
       "  'pos': ['', '', '', '', ''],\n",
       "  'word': ['one', 'four-year', 'term', 'on', 'the']}}"
      ]
     },
     "execution_count": 15,
     "metadata": {},
     "output_type": "execute_result"
    }
   ],
   "source": [
    "result_she[\"hits\"][1]"
   ]
  },
  {
   "cell_type": "markdown",
   "id": "be4ce744-6440-490c-b5c5-2c67fe7d2206",
   "metadata": {},
   "source": [
    "**The \"match\" part contains the search match from the query as well as the corresponding lemmas.**"
   ]
  },
  {
   "cell_type": "code",
   "execution_count": 16,
   "id": "6c0ca18d-1853-4691-9083-71a305ca5862",
   "metadata": {},
   "outputs": [
    {
     "data": {
      "text/plain": [
       "{'punct': [' ', ' . ', ' '],\n",
       " 'lemma': ['amendment', 'she', 'serve'],\n",
       " 'pos': ['', '', ''],\n",
       " 'word': ['amendment', 'She', 'served']}"
      ]
     },
     "execution_count": 16,
     "metadata": {},
     "output_type": "execute_result"
    }
   ],
   "source": [
    "result_she[\"hits\"][1][\"match\"]"
   ]
  },
  {
   "cell_type": "code",
   "execution_count": null,
   "id": "dc7f0f53-67fc-4f5f-8c76-52166f9dc072",
   "metadata": {},
   "outputs": [],
   "source": []
  }
 ],
 "metadata": {
  "kernelspec": {
   "display_name": "Python 3 (ipykernel)",
   "language": "python",
   "name": "python3"
  },
  "language_info": {
   "codemirror_mode": {
    "name": "ipython",
    "version": 3
   },
   "file_extension": ".py",
   "mimetype": "text/x-python",
   "name": "python",
   "nbconvert_exporter": "python",
   "pygments_lexer": "ipython3",
   "version": "3.9.12"
  }
 },
 "nbformat": 4,
 "nbformat_minor": 5
}
